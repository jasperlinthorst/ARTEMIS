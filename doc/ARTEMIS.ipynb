{
 "cells": [
  {
   "cell_type": "markdown",
   "id": "c4a1c440",
   "metadata": {},
   "source": [
    "# Pipeline to select pathogenic SNPs in a CAS12 seed region"
   ]
  },
  {
   "cell_type": "code",
   "execution_count": 1,
   "id": "f58636fd",
   "metadata": {},
   "outputs": [],
   "source": [
    "import gzip\n",
    "import re\n",
    "import sys\n",
    "import pysam"
   ]
  },
  {
   "cell_type": "markdown",
   "id": "c1f40047",
   "metadata": {},
   "source": [
    "First load the snps of interest from the clinvar database. Make sure clinvar.vcf.gz is available in the same directory as the notebook."
   ]
  },
  {
   "cell_type": "code",
   "execution_count": null,
   "id": "aabce553",
   "metadata": {},
   "outputs": [
    {
     "name": "stdout",
     "output_type": "stream",
     "text": [
      "\n",
      "Reading ClinVar database for fun\n",
      "selecting all pathogenic SNVs\n"
     ]
    }
   ],
   "source": [
    "print(\"\\nReading ClinVar database for fun\")\n",
    "\n",
    "snps=[]\n",
    "with gzip.open(\"clinvar.vcf.gz\",\"rt\") as vcf_file:        \n",
    "        print(\"selecting all pathogenic SNVs\")\n",
    "        for line in vcf_file:\n",
    "            # Check if the line starts with a \"#\" character, which indicates a comment line\n",
    "            if line[0] == \"#\":\n",
    "                continue\n",
    "\n",
    "            # Split the line into fields\n",
    "            fields = line.strip().split(\"\\t\")\n",
    "            \n",
    "            # Split the info field into substrings\n",
    "            info_substrings = fields[7].split(\";\")\n",
    "     \n",
    "            # Initialize flags to track whether the CLNVC and SLNSIG conditions are met\n",
    "            clnvc_found = False\n",
    "            clnsig_found = False\n",
    "         \n",
    "            # Initialize a variable to store the gene name & frequency\n",
    "            gene = \"\"\n",
    "            frequency = \"\"\n",
    "            \n",
    "           # Loop through the info substrings\n",
    "            for substring in info_substrings:\n",
    "                # Check if the CLNVC condition is met\n",
    "                if substring == \"CLNVC=single_nucleotide_variant\":\n",
    "                    clnvc_found = True\n",
    "                # Check if the SLNSIG condition is met\n",
    "                if \"CLNSIG=Pathogenic\" in substring:\n",
    "                    clnsig_found = True\n",
    "                    # Check if the GENEINFO condition is met\n",
    "                elif substring.startswith(\"GENEINFO=\"):\n",
    "                    # Extract the gene name from the substring\n",
    "                    gene = substring.split(\"=\")[1]\n",
    "            # Check if the CLNALLE condition is met\n",
    "                elif substring.startswith(\"AF_EXAC=\"):\n",
    "                    # Extract the clinical frequency from the substring\n",
    "                    frequency = substring.split(\"=\")[1]\n",
    "            \n",
    "            # If both conditions are met, write the candidate to the CSV file\n",
    "            if clnvc_found and clnsig_found:\n",
    "                snps.append(([fields[0], gene, fields[1], fields[3], fields[4], frequency]))\n",
    "                #writer.writerow([fields[0], gene, fields[1], fields[3], fields[4], frequency])"
   ]
  },
  {
   "cell_type": "markdown",
   "id": "b0e5fbb7",
   "metadata": {},
   "source": [
    "Now for every SNP check if there's a PAM site nearby."
   ]
  },
  {
   "cell_type": "markdown",
   "id": "36103dcd",
   "metadata": {},
   "source": [
    "First load the entire human genome into memory for quick lookup. Make sure GRCh38.fa.gz is located in the same directory as the notebook."
   ]
  },
  {
   "cell_type": "code",
   "execution_count": null,
   "id": "9cb97d91",
   "metadata": {
    "scrolled": true
   },
   "outputs": [
    {
     "name": "stdout",
     "output_type": "stream",
     "text": [
      "1\n"
     ]
    },
    {
     "name": "stdout",
     "output_type": "stream",
     "text": [
      "2\n",
      "3\n",
      "4\n",
      "5\n",
      "6\n",
      "7\n",
      "8\n",
      "9\n",
      "10\n",
      "11\n",
      "12\n",
      "13\n",
      "14\n",
      "15\n",
      "16\n",
      "17\n",
      "18\n",
      "19\n",
      "20\n",
      "21\n",
      "22\n",
      "X\n",
      "Y\n"
     ]
    }
   ],
   "source": [
    "hg={}\n",
    "with gzip.open(\"GRCh38.fa.gz\", \"rt\") as genome_file:\n",
    "    seq,chrom=\"\",None\n",
    "    for line in genome_file:\n",
    "        if line[0]=='>':\n",
    "            if seq!=\"\" and chrom!=None:\n",
    "                hg[chrom]=seq\n",
    "            p=re.compile(\"(.*) Homo sapiens chromosome (\\d{1,2}|X|Y), GRCh38.p14 Primary Assembly\")\n",
    "            match=p.search(line)\n",
    "            if match!=None: #actual primary assembly\n",
    "                ctgname=match.group(1)\n",
    "                chrom=match.group(2)\n",
    "                print(chrom)\n",
    "            else:\n",
    "                chrom=None  \n",
    "            seq=\"\"\n",
    "        else:\n",
    "            seq+=line[:-1]\n",
    "hg['MT']=seq"
   ]
  },
  {
   "cell_type": "code",
   "execution_count": 15,
   "id": "06a2ce8e",
   "metadata": {},
   "outputs": [],
   "source": [
    "p=re.compile(\"(TTT[A,C,G])|([C,G,T]AAA)\")\n",
    "with gzip.open('pamsites.bed.gz','wt') as bed:\n",
    "    for chrom in hg.keys():\n",
    "        for m in p.finditer(hg[chrom]):\n",
    "            if chrom=='MT':\n",
    "                chrom='M'\n",
    "            o='-' if m.groups()[0]==None else '+'\n",
    "            bed.write(\"chr%s\\t%d\\t%d\\t%s\\n\"%(chrom, m.start(), m.end(), o))\n"
   ]
  },
  {
   "cell_type": "markdown",
   "id": "cf4f60e1",
   "metadata": {},
   "source": [
    "# Intersect with SNPs in 1000 genomes data, to obtain non-overlapping PAM sites"
   ]
  },
  {
   "cell_type": "markdown",
   "id": "2c947eb2",
   "metadata": {},
   "source": [
    "Download 1000 genomes vcf with variants and allele frequencies, e.g. through:\n",
    "\n",
    "ftp://ftp.1000genomes.ebi.ac.uk/vol1/ftp/data_collections/1000_genomes_project/release/20181203_biallelic_SNV/ALL.wgs.shapeit2_integrated_v1a.GRCh38.20181129.sites.vcf.gz\n",
    "\n",
    "And filter by allele frequency:"
   ]
  },
  {
   "cell_type": "code",
   "execution_count": null,
   "id": "999658bf",
   "metadata": {},
   "outputs": [],
   "source": [
    "!bcftools view -i 'INFO/AF>=0.01 & INFO/AF<=0.99' -Oz -o ALL.wgs.shapeit2_integrated_v1a.GRCh38.20181129.sites.AF01.vcf.gz ALL.wgs.shapeit2_integrated_v1a.GRCh38.20181129.sites.vcf.gz"
   ]
  },
  {
   "cell_type": "markdown",
   "id": "4af8340d",
   "metadata": {},
   "source": [
    "Make sure bedtools is available from your notebook"
   ]
  },
  {
   "cell_type": "code",
   "execution_count": 6,
   "id": "ddf24f13",
   "metadata": {},
   "outputs": [
    {
     "name": "stdout",
     "output_type": "stream",
     "text": [
      "/bin/bash: bedtools: command not found\n"
     ]
    }
   ],
   "source": [
    "!bedtools intersect -v -wa -a pamsites.bed.gz -b ALL.wgs.shapeit2_integrated_v1a.GRCh38.20181129.sites.AF01.snps.vcf.gz | gzip > pamsites.nooverlap.bed.gz"
   ]
  },
  {
   "cell_type": "markdown",
   "id": "48ee0f1f",
   "metadata": {},
   "source": [
    "Write all seed sites to a bed file."
   ]
  },
  {
   "cell_type": "code",
   "execution_count": 13,
   "id": "8486f597",
   "metadata": {},
   "outputs": [],
   "source": [
    "seedsize=5\n",
    "\n",
    "with gzip.open('seedsites.%d.bed.gz'%seedsize,'wt') as bedout:\n",
    "    with gzip.open('pamsites.nooverlap.bed.gz','rt') as bed:\n",
    "        for line in bed:\n",
    "            chrom,start,end,o=line[:-1].split('\\t')\n",
    "            if o=='+':\n",
    "                bedout.write(\"%s\\t%s\\t%d\\t%s\\n\"%(chrom, end, int(end)+seedsize, o))\n",
    "            else:\n",
    "                bedout.write(\"%s\\t%d\\t%s\\t%s\\n\"%(chrom, int(start)-seedsize, start, o))"
   ]
  },
  {
   "cell_type": "code",
   "execution_count": null,
   "id": "9c0d23a7",
   "metadata": {},
   "outputs": [],
   "source": [
    "!bedtools sort -i seedsites.5.bed.gz | merge -i - | gzip > seedsites.merged.bed.gz"
   ]
  },
  {
   "cell_type": "markdown",
   "id": "e75d11ea",
   "metadata": {},
   "source": [
    "# Intersect clinvar with merged seedsites to obtain CAS12 targetable SNPs"
   ]
  },
  {
   "cell_type": "code",
   "execution_count": null,
   "id": "1ed272f5",
   "metadata": {},
   "outputs": [],
   "source": [
    "!bcftools annotate --rename-chrs chr.map clinvar_20210731.vcf.gz | bcftools view -i 'INFO/CLNSIG=\"Pathogenic\"' -v snps | bedtools intersect -header -a - -b seedsites.merged.bed.gz | bcftools view - --write-index -Oz -o clinvar_20210731.pathogenic.snps.CAS12targetable.vcf.gz"
   ]
  },
  {
   "cell_type": "markdown",
   "id": "f112d38c",
   "metadata": {},
   "source": [
    "clinvar_20210731.pathogenic.snps.CAS12targetable.vcf.gz now contains all pathogenic SNPs in clinvar that can be targeted by CAS12."
   ]
  },
  {
   "cell_type": "code",
   "execution_count": 19,
   "id": "81da677e",
   "metadata": {},
   "outputs": [
    {
     "data": {
      "text/plain": [
       "0.0"
      ]
     },
     "execution_count": 19,
     "metadata": {},
     "output_type": "execute_result"
    }
   ],
   "source": [
    "n/len(snps)"
   ]
  },
  {
   "cell_type": "markdown",
   "id": "a3a3a6c0",
   "metadata": {},
   "source": [
    "# Annotate vcf with target sequence and relative location to PAM site"
   ]
  },
  {
   "cell_type": "code",
   "execution_count": 14,
   "id": "7b10bc9e",
   "metadata": {},
   "outputs": [],
   "source": [
    "revcomptable = str.maketrans(\"acgtACGTRY\",\"tgcaTGCAYR\")\n",
    "def revcomp(s):\n",
    "    return s.translate(revcomptable)[::-1]\n"
   ]
  },
  {
   "cell_type": "markdown",
   "id": "5bf63677",
   "metadata": {},
   "source": [
    "Read every record in the filtered clinvar vcf and write to an annotated vcf."
   ]
  },
  {
   "cell_type": "code",
   "execution_count": 17,
   "id": "62f6f767",
   "metadata": {},
   "outputs": [],
   "source": [
    "vcffile=\"clinvar_20210731.pathogenic.snps.CAS12targetable.vcf.gz\""
   ]
  },
  {
   "cell_type": "code",
   "execution_count": 20,
   "id": "6c1f24eb",
   "metadata": {
    "scrolled": true
   },
   "outputs": [],
   "source": [
    "posPAM =  [\"TTTC\", \"TTTA\", \"TTTG\"]\n",
    "negPAM  = [\"CAAA\", \"TAAA\", \"GAAA\"]\n",
    "\n",
    "seedsize=5\n",
    "pamsize=4\n",
    "\n",
    "w=seedsize+pamsize\n",
    "\n",
    "n=0\n",
    "\n",
    "with pysam.VariantFile(vcffile) as vcfreader:\n",
    "    vcfreader.header.info.add('SNP_position', 1, 'String', 'Position of SNP relative to PAM site')\n",
    "    vcfreader.header.info.add('CRISPR_ref_target_sequence', 1, 'String', 'CRISPR target sequence to address the reference (WT) allele.')\n",
    "    vcfreader.header.info.add('CRISPR_alt_target_sequence', 1, 'String', 'CRISPR target sequence to address the alternative (pathogenic) allele.')\n",
    "    vcfreader.header.info.add('STRAND', 1, 'String', 'Whether PAM site is found on the positive (+) or negative (-) strand.')\n",
    "    with pysam.VariantFile(vcffile.replace('vcf.gz','CRISPR-annotated.vcf.gz'),'w',header=vcfreader.header) as vcfwriter:\n",
    "        \n",
    "        for rec in vcfreader:\n",
    "            \n",
    "            chrom=rec.chrom\n",
    "            chrom_nochr=chrom.replace('chr','').replace('M','MT')\n",
    "            gene=rec.info['GENEINFO']\n",
    "            pos=rec.pos\n",
    "            ref=rec.ref\n",
    "            alt=rec.alts[0]\n",
    "            #af=rec.info['AF_EXAC']\n",
    "            \n",
    "            site=hg[chrom_nochr][int(pos)-w-1:int(pos)+w]\n",
    "            r=hg[chrom_nochr][int(pos)-1]\n",
    "            downstream=hg[chrom_nochr][int(pos)-w:int(pos)-1]\n",
    "            upstream=hg[chrom_nochr][int(pos):int(pos)+w-1]\n",
    "            \n",
    "            rpclosest=100\n",
    "            for pam in posPAM:\n",
    "                p=downstream.find(pam)\n",
    "                if p!=-1:\n",
    "                    rp=w-pamsize-p\n",
    "                    if rp<rpclosest:\n",
    "                        strandorientation='+'\n",
    "                        rpclosest=rp\n",
    "                        pamstart=int(pos)-rpclosest-4\n",
    "                        reftarget=hg[chrom_nochr][pamstart:pamstart+25]\n",
    "                        alttarget=reftarget[:4+(rpclosest-1)]+alt+reftarget[4+rpclosest:]\n",
    "                        \n",
    "                    #print(n,chrom,gene,af,ref,alt,pos,\"is targetable with CAS12 through PAM site: %s at position +%d!\"%(pam,w-pamsize-p),downstream,r,upstream)\n",
    "            \n",
    "            for pam in negPAM:\n",
    "                p=upstream.find(pam)\n",
    "                if p!=-1:\n",
    "                    rp=p+1\n",
    "                    if rp<rpclosest:\n",
    "                        strandorientation='-'\n",
    "                        rpclosest=rp\n",
    "                        pamstart=int(pos)-1+rpclosest+4\n",
    "                        reftarget=revcomp(hg[chrom_nochr][pamstart-25:pamstart])\n",
    "                        alttarget=reftarget[:4+(rpclosest-1)]+revcomp(alt)+reftarget[4+rpclosest:]\n",
    "                    \n",
    "                    #print(n,chrom,gene,af,ref,alt,pos,\"is targetable with CAS12 through PAM site: %s at position +%d!\"%(pam,p+1),downstream,r,upstream)\n",
    "            \n",
    "            rec.info['SNP_position']='PAM+%d'%rpclosest\n",
    "            rec.info['CRISPR_ref_target_sequence']=reftarget.upper()\n",
    "            rec.info['CRISPR_alt_target_sequence']=alttarget.upper()\n",
    "            rec.info['STRAND']=strandorientation\n",
    "            \n",
    "            vcfwriter.write(rec)"
   ]
  },
  {
   "cell_type": "markdown",
   "id": "61c7c01c",
   "metadata": {},
   "source": [
    "There should now be a \"clinvar_20210731.pathogenic.snps.CAS12targetable.CRISPR-annotated.vcf.gz\" file which contains annotations (e.g. SNP_position (relative to PAM site), target sequences for both alleles of the SNP and the strand information) for all pathogenic SNPs in clinvar that are targetable by CAS12 "
   ]
  }
 ],
 "metadata": {
  "kernelspec": {
   "display_name": "Python 3 (ipykernel)",
   "language": "python",
   "name": "python3"
  },
  "language_info": {
   "codemirror_mode": {
    "name": "ipython",
    "version": 3
   },
   "file_extension": ".py",
   "mimetype": "text/x-python",
   "name": "python",
   "nbconvert_exporter": "python",
   "pygments_lexer": "ipython3",
   "version": "3.7.9"
  }
 },
 "nbformat": 4,
 "nbformat_minor": 5
}
